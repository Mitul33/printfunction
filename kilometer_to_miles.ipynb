{
 "cells": [
  {
   "cell_type": "code",
   "execution_count": 2,
   "id": "f5515bed",
   "metadata": {},
   "outputs": [],
   "source": [
    "# Taking kilometers input from the user"
   ]
  },
  {
   "cell_type": "code",
   "execution_count": 3,
   "id": "6ba8c69f",
   "metadata": {},
   "outputs": [
    {
     "name": "stdout",
     "output_type": "stream",
     "text": [
      "enter value in kilometers: 52\n"
     ]
    }
   ],
   "source": [
    "km = float(input(\"enter value in kilometers: \"))"
   ]
  },
  {
   "cell_type": "code",
   "execution_count": 4,
   "id": "b0945772",
   "metadata": {},
   "outputs": [],
   "source": [
    "cfac = 0.621371"
   ]
  },
  {
   "cell_type": "code",
   "execution_count": 7,
   "id": "a071b660",
   "metadata": {},
   "outputs": [
    {
     "name": "stdout",
     "output_type": "stream",
     "text": [
      "32.311292\n"
     ]
    }
   ],
   "source": [
    "miles=km*cfac\n",
    "print(miles)"
   ]
  },
  {
   "cell_type": "code",
   "execution_count": null,
   "id": "2543e116",
   "metadata": {},
   "outputs": [],
   "source": []
  }
 ],
 "metadata": {
  "kernelspec": {
   "display_name": "Python 3",
   "language": "python",
   "name": "python3"
  },
  "language_info": {
   "codemirror_mode": {
    "name": "ipython",
    "version": 3
   },
   "file_extension": ".py",
   "mimetype": "text/x-python",
   "name": "python",
   "nbconvert_exporter": "python",
   "pygments_lexer": "ipython3",
   "version": "3.8.8"
  }
 },
 "nbformat": 4,
 "nbformat_minor": 5
}
