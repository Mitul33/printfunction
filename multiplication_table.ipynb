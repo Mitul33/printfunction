{
 "cells": [
  {
   "cell_type": "code",
   "execution_count": null,
   "id": "5e5a1732",
   "metadata": {},
   "outputs": [],
   "source": [
    "# Multiplication table (from 1 to 10) in Python"
   ]
  },
  {
   "cell_type": "code",
   "execution_count": 5,
   "id": "63270698",
   "metadata": {},
   "outputs": [
    {
     "name": "stdout",
     "output_type": "stream",
     "text": [
      "enter your number: 15\n"
     ]
    }
   ],
   "source": [
    "num=int(input(\"enter your number: \"))"
   ]
  },
  {
   "cell_type": "code",
   "execution_count": 6,
   "id": "d550cb2d",
   "metadata": {},
   "outputs": [
    {
     "name": "stdout",
     "output_type": "stream",
     "text": [
      "15 * 1 = 15\n",
      "15 * 2 = 30\n",
      "15 * 3 = 45\n",
      "15 * 4 = 60\n",
      "15 * 5 = 75\n",
      "15 * 6 = 90\n",
      "15 * 7 = 105\n",
      "15 * 8 = 120\n",
      "15 * 9 = 135\n",
      "15 * 10 = 150\n"
     ]
    }
   ],
   "source": [
    "for i in range(1,11):\n",
    "    a=num*i\n",
    "    print(num,\"*\",i,\"=\",a)"
   ]
  }
 ],
 "metadata": {
  "kernelspec": {
   "display_name": "Python 3",
   "language": "python",
   "name": "python3"
  },
  "language_info": {
   "codemirror_mode": {
    "name": "ipython",
    "version": 3
   },
   "file_extension": ".py",
   "mimetype": "text/x-python",
   "name": "python",
   "nbconvert_exporter": "python",
   "pygments_lexer": "ipython3",
   "version": "3.8.8"
  }
 },
 "nbformat": 4,
 "nbformat_minor": 5
}
