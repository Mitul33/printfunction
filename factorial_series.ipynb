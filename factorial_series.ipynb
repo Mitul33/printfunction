{
 "cells": [
  {
   "cell_type": "code",
   "execution_count": 3,
   "id": "5e5a1732",
   "metadata": {},
   "outputs": [],
   "source": [
    "# Python program to find the factorial of a number provided by the user."
   ]
  },
  {
   "cell_type": "code",
   "execution_count": 12,
   "id": "7120e540",
   "metadata": {},
   "outputs": [
    {
     "name": "stdout",
     "output_type": "stream",
     "text": [
      "Enter a number: 0\n"
     ]
    }
   ],
   "source": [
    "num = int(input(\"Enter a number: \"))\n",
    "a=1"
   ]
  },
  {
   "cell_type": "code",
   "execution_count": 13,
   "id": "814614d4",
   "metadata": {},
   "outputs": [
    {
     "name": "stdout",
     "output_type": "stream",
     "text": [
      "The factorial of 0 is 1\n"
     ]
    }
   ],
   "source": [
    "for i in range(1,num + 1):\n",
    "       a = a*i\n",
    "print(\"The factorial of\",num,\"is\",a)\n"
   ]
  },
  {
   "cell_type": "code",
   "execution_count": null,
   "id": "0d037772",
   "metadata": {},
   "outputs": [],
   "source": []
  },
  {
   "cell_type": "code",
   "execution_count": null,
   "id": "2c5d47ce",
   "metadata": {},
   "outputs": [],
   "source": []
  },
  {
   "cell_type": "code",
   "execution_count": null,
   "id": "24989cce",
   "metadata": {},
   "outputs": [],
   "source": []
  },
  {
   "cell_type": "code",
   "execution_count": null,
   "id": "1a268875",
   "metadata": {},
   "outputs": [],
   "source": []
  }
 ],
 "metadata": {
  "kernelspec": {
   "display_name": "Python 3",
   "language": "python",
   "name": "python3"
  },
  "language_info": {
   "codemirror_mode": {
    "name": "ipython",
    "version": 3
   },
   "file_extension": ".py",
   "mimetype": "text/x-python",
   "name": "python",
   "nbconvert_exporter": "python",
   "pygments_lexer": "ipython3",
   "version": "3.8.8"
  }
 },
 "nbformat": 4,
 "nbformat_minor": 5
}
