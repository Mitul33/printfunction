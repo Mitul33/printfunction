{
 "cells": [
  {
   "cell_type": "code",
   "execution_count": 1,
   "id": "5e5a1732",
   "metadata": {},
   "outputs": [],
   "source": [
    "#Python Program to Check if a Number is Odd or Even\n"
   ]
  },
  {
   "cell_type": "code",
   "execution_count": 16,
   "id": "27ea191b",
   "metadata": {},
   "outputs": [
    {
     "name": "stdout",
     "output_type": "stream",
     "text": [
      "enter your number: -2\n"
     ]
    }
   ],
   "source": [
    "num=float(input(\"enter your number: \"))"
   ]
  },
  {
   "cell_type": "code",
   "execution_count": 18,
   "id": "4acfeed5",
   "metadata": {},
   "outputs": [
    {
     "name": "stdout",
     "output_type": "stream",
     "text": [
      "-2.0 is even\n"
     ]
    }
   ],
   "source": [
    "if num%2==0 :\n",
    "    print(num, \"is even\")\n",
    "else:\n",
    "    print(num,\"is odd\")"
   ]
  }
 ],
 "metadata": {
  "kernelspec": {
   "display_name": "Python 3",
   "language": "python",
   "name": "python3"
  },
  "language_info": {
   "codemirror_mode": {
    "name": "ipython",
    "version": 3
   },
   "file_extension": ".py",
   "mimetype": "text/x-python",
   "name": "python",
   "nbconvert_exporter": "python",
   "pygments_lexer": "ipython3",
   "version": "3.8.8"
  }
 },
 "nbformat": 4,
 "nbformat_minor": 5
}
