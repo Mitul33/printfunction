{
 "cells": [
  {
   "cell_type": "code",
   "execution_count": 2,
   "id": "7161bbfa",
   "metadata": {},
   "outputs": [
    {
     "name": "stdout",
     "output_type": "stream",
     "text": [
      "enter your num: 9\n",
      "3.0\n"
     ]
    }
   ],
   "source": [
    "num=int(input(\"enter your num: \"))\n",
    "sqareroot=num**0.5\n",
    "print (sqareroot)"
   ]
  },
  {
   "cell_type": "code",
   "execution_count": 5,
   "id": "fb771acc",
   "metadata": {},
   "outputs": [],
   "source": [
    "# # Find square root of real or complex numbers\n",
    "# Importing the complex math module\n"
   ]
  },
  {
   "cell_type": "code",
   "execution_count": 6,
   "id": "7ea0ffdb",
   "metadata": {},
   "outputs": [],
   "source": [
    "import cmath"
   ]
  },
  {
   "cell_type": "code",
   "execution_count": 8,
   "id": "2bf71095",
   "metadata": {},
   "outputs": [
    {
     "name": "stdout",
     "output_type": "stream",
     "text": [
      "(2.36849577340692+1.8999400592246176j)\n"
     ]
    }
   ],
   "source": [
    "num=2+9j\n",
    "sqareroot=cmath.sqrt(num)\n",
    "print(sqareroot)"
   ]
  }
 ],
 "metadata": {
  "kernelspec": {
   "display_name": "Python 3",
   "language": "python",
   "name": "python3"
  },
  "language_info": {
   "codemirror_mode": {
    "name": "ipython",
    "version": 3
   },
   "file_extension": ".py",
   "mimetype": "text/x-python",
   "name": "python",
   "nbconvert_exporter": "python",
   "pygments_lexer": "ipython3",
   "version": "3.8.8"
  }
 },
 "nbformat": 4,
 "nbformat_minor": 5
}
