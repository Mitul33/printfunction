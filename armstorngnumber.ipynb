{
 "cells": [
  {
   "cell_type": "code",
   "execution_count": 1,
   "id": "a67af4f7",
   "metadata": {},
   "outputs": [],
   "source": [
    "# Python program to find armstrong number using for loop\n"
   ]
  },
  {
   "cell_type": "code",
   "execution_count": 3,
   "id": "374ed117",
   "metadata": {},
   "outputs": [
    {
     "name": "stdout",
     "output_type": "stream",
     "text": [
      "Enter the lower limit: 25\n",
      "Enter the upper limit: 300\n"
     ]
    }
   ],
   "source": [
    "low = int(input(\"Enter the lower limit: \"))\n",
    "up = int(input(\"Enter the upper limit: \"))"
   ]
  },
  {
   "cell_type": "code",
   "execution_count": 4,
   "id": "0315576e",
   "metadata": {},
   "outputs": [
    {
     "name": "stdout",
     "output_type": "stream",
     "text": [
      "153\n"
     ]
    }
   ],
   "source": [
    "for i in range(low, up +1):\n",
    "   pow = len(str(i))\n",
    "   sum = 0\n",
    "   temp = i\n",
    "   while temp > 0:\n",
    "      digits = temp %10\n",
    "      sum += digits ** pow\n",
    "      temp //= 10\n",
    "   if i == sum:\n",
    "      print(i)"
   ]
  },
  {
   "cell_type": "code",
   "execution_count": null,
   "id": "09a0463c",
   "metadata": {},
   "outputs": [],
   "source": []
  }
 ],
 "metadata": {
  "kernelspec": {
   "display_name": "Python 3",
   "language": "python",
   "name": "python3"
  },
  "language_info": {
   "codemirror_mode": {
    "name": "ipython",
    "version": 3
   },
   "file_extension": ".py",
   "mimetype": "text/x-python",
   "name": "python",
   "nbconvert_exporter": "python",
   "pygments_lexer": "ipython3",
   "version": "3.8.8"
  }
 },
 "nbformat": 4,
 "nbformat_minor": 5
}
