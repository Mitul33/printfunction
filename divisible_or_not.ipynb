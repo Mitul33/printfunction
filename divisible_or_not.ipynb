{
 "cells": [
  {
   "cell_type": "code",
   "execution_count": 5,
   "id": "0c2c9f7a",
   "metadata": {},
   "outputs": [],
   "source": [
    "# Python Program to Find Numbers Divisible by Another Number"
   ]
  },
  {
   "cell_type": "code",
   "execution_count": 6,
   "id": "ac03fb28",
   "metadata": {},
   "outputs": [
    {
     "name": "stdout",
     "output_type": "stream",
     "text": [
      "Enter First Number 25\n",
      "Enter Second Number 6\n"
     ]
    }
   ],
   "source": [
    "num1 = int(input(\"Enter First Number \"))\n",
    "num2 = int(input(\"Enter Second Number \"))\n"
   ]
  },
  {
   "cell_type": "code",
   "execution_count": 7,
   "id": "8d932655",
   "metadata": {},
   "outputs": [
    {
     "name": "stdout",
     "output_type": "stream",
     "text": [
      "25  is not divisible by  6\n"
     ]
    }
   ],
   "source": [
    "if num1%num2==0:\n",
    "    print(num1,\" is divisible by \",num2)\n",
    "else:\n",
    "    print(num1,\" is not divisible by \",num2)"
   ]
  },
  {
   "cell_type": "code",
   "execution_count": null,
   "id": "dda859a9",
   "metadata": {},
   "outputs": [],
   "source": [
    "#second method"
   ]
  },
  {
   "cell_type": "code",
   "execution_count": 19,
   "id": "353fa326",
   "metadata": {},
   "outputs": [],
   "source": [
    "my_list = [12, 65, 54, 39, 102, 339, 221]"
   ]
  },
  {
   "cell_type": "code",
   "execution_count": 20,
   "id": "65b8c46f",
   "metadata": {},
   "outputs": [
    {
     "name": "stdout",
     "output_type": "stream",
     "text": [
      "enter your num: 22\n"
     ]
    }
   ],
   "source": [
    "a=int(input(\"enter your num: \"))\n",
    "b=[]"
   ]
  },
  {
   "cell_type": "code",
   "execution_count": 23,
   "id": "a39c7a35",
   "metadata": {},
   "outputs": [
    {
     "name": "stdout",
     "output_type": "stream",
     "text": [
      "not divisible\n",
      "not divisible\n",
      "not divisible\n",
      "not divisible\n",
      "not divisible\n",
      "not divisible\n",
      "not divisible\n"
     ]
    }
   ],
   "source": [
    "for i in my_list:\n",
    "    if i%a==0:\n",
    "        b.append(i)\n",
    "    else:\n",
    "        print(\"not divisible\")"
   ]
  },
  {
   "cell_type": "code",
   "execution_count": 24,
   "id": "6c293161",
   "metadata": {},
   "outputs": [
    {
     "name": "stdout",
     "output_type": "stream",
     "text": [
      "[]\n"
     ]
    }
   ],
   "source": [
    "print(b)"
   ]
  }
 ],
 "metadata": {
  "kernelspec": {
   "display_name": "Python 3",
   "language": "python",
   "name": "python3"
  },
  "language_info": {
   "codemirror_mode": {
    "name": "ipython",
    "version": 3
   },
   "file_extension": ".py",
   "mimetype": "text/x-python",
   "name": "python",
   "nbconvert_exporter": "python",
   "pygments_lexer": "ipython3",
   "version": "3.8.8"
  }
 },
 "nbformat": 4,
 "nbformat_minor": 5
}
