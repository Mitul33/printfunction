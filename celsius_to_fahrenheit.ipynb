{
 "cells": [
  {
   "cell_type": "code",
   "execution_count": 1,
   "id": "5e5a1732",
   "metadata": {},
   "outputs": [],
   "source": [
    "# Python Program to convert temperature in celsius to fahrenheit\n"
   ]
  },
  {
   "cell_type": "code",
   "execution_count": 2,
   "id": "02571804",
   "metadata": {},
   "outputs": [
    {
     "name": "stdout",
     "output_type": "stream",
     "text": [
      "enter your tem. in celsius25\n"
     ]
    }
   ],
   "source": [
    "cels=float(input(\"enter your tem. in celsius\"))"
   ]
  },
  {
   "cell_type": "code",
   "execution_count": 3,
   "id": "7be1bb4b",
   "metadata": {},
   "outputs": [],
   "source": [
    "fahrenheit = (cels * 1.8) + 32"
   ]
  },
  {
   "cell_type": "code",
   "execution_count": 6,
   "id": "fafce7ce",
   "metadata": {},
   "outputs": [
    {
     "name": "stdout",
     "output_type": "stream",
     "text": [
      "celsius 25.0 in to fahrenheit:  77.0\n"
     ]
    }
   ],
   "source": [
    "print(\"celsius\",cels,\"in to fahrenheit: \",fahrenheit)"
   ]
  },
  {
   "cell_type": "code",
   "execution_count": null,
   "id": "3b39c21a",
   "metadata": {},
   "outputs": [],
   "source": []
  }
 ],
 "metadata": {
  "kernelspec": {
   "display_name": "Python 3",
   "language": "python",
   "name": "python3"
  },
  "language_info": {
   "codemirror_mode": {
    "name": "ipython",
    "version": 3
   },
   "file_extension": ".py",
   "mimetype": "text/x-python",
   "name": "python",
   "nbconvert_exporter": "python",
   "pygments_lexer": "ipython3",
   "version": "3.8.8"
  }
 },
 "nbformat": 4,
 "nbformat_minor": 5
}
