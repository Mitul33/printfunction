{
 "cells": [
  {
   "cell_type": "code",
   "execution_count": 1,
   "id": "b9a6f31a",
   "metadata": {},
   "outputs": [],
   "source": [
    "## Program to generate a random number between 0 to 10"
   ]
  },
  {
   "cell_type": "code",
   "execution_count": 4,
   "id": "8aa7053e",
   "metadata": {},
   "outputs": [],
   "source": [
    "import random"
   ]
  },
  {
   "cell_type": "code",
   "execution_count": 3,
   "id": "c43c2e2d",
   "metadata": {},
   "outputs": [
    {
     "name": "stdout",
     "output_type": "stream",
     "text": [
      "1\n"
     ]
    }
   ],
   "source": [
    "a=random.randint(0,10)\n",
    "print(a)"
   ]
  },
  {
   "cell_type": "code",
   "execution_count": null,
   "id": "8d05637f",
   "metadata": {},
   "outputs": [],
   "source": [
    "# genate a random ten number in list using random"
   ]
  },
  {
   "cell_type": "code",
   "execution_count": 6,
   "id": "a5b26bf0",
   "metadata": {},
   "outputs": [],
   "source": [
    "b=[]"
   ]
  },
  {
   "cell_type": "code",
   "execution_count": 7,
   "id": "c80bfd96",
   "metadata": {},
   "outputs": [],
   "source": [
    "for i in range(0,9):\n",
    "    c=random.randint(0,10)\n",
    "    b.append(c)"
   ]
  },
  {
   "cell_type": "code",
   "execution_count": 8,
   "id": "a233d5cf",
   "metadata": {},
   "outputs": [
    {
     "name": "stdout",
     "output_type": "stream",
     "text": [
      "[4, 1, 3, 9, 6, 4, 3, 4, 4]\n"
     ]
    }
   ],
   "source": [
    "print(b)"
   ]
  }
 ],
 "metadata": {
  "kernelspec": {
   "display_name": "Python 3",
   "language": "python",
   "name": "python3"
  },
  "language_info": {
   "codemirror_mode": {
    "name": "ipython",
    "version": 3
   },
   "file_extension": ".py",
   "mimetype": "text/x-python",
   "name": "python",
   "nbconvert_exporter": "python",
   "pygments_lexer": "ipython3",
   "version": "3.8.8"
  }
 },
 "nbformat": 4,
 "nbformat_minor": 5
}
