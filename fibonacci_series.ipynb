{
 "cells": [
  {
   "cell_type": "code",
   "execution_count": 10,
   "id": "e17e5a3c",
   "metadata": {},
   "outputs": [],
   "source": [
    "# Program to display the Fibonacci sequence up to n-th term"
   ]
  },
  {
   "cell_type": "code",
   "execution_count": 35,
   "id": "f43154ec",
   "metadata": {},
   "outputs": [
    {
     "name": "stdout",
     "output_type": "stream",
     "text": [
      "enter your number: 5\n"
     ]
    }
   ],
   "source": [
    "num=int(input(\"enter your number: \"))\n",
    "f=0\n",
    "s=1\n"
   ]
  },
  {
   "cell_type": "code",
   "execution_count": 36,
   "id": "0d247496",
   "metadata": {},
   "outputs": [
    {
     "name": "stdout",
     "output_type": "stream",
     "text": [
      "1\n",
      "2\n",
      "3\n",
      "5\n",
      "8\n"
     ]
    }
   ],
   "source": [
    "for i in range(0,num):\n",
    "        next=f+s                           \n",
    "        print(next)\n",
    "        f=s\n",
    "        s=next"
   ]
  }
 ],
 "metadata": {
  "kernelspec": {
   "display_name": "Python 3",
   "language": "python",
   "name": "python3"
  },
  "language_info": {
   "codemirror_mode": {
    "name": "ipython",
    "version": 3
   },
   "file_extension": ".py",
   "mimetype": "text/x-python",
   "name": "python",
   "nbconvert_exporter": "python",
   "pygments_lexer": "ipython3",
   "version": "3.8.8"
  }
 },
 "nbformat": 4,
 "nbformat_minor": 5
}
