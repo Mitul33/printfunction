{
 "cells": [
  {
   "cell_type": "code",
   "execution_count": 9,
   "id": "79a4ece8",
   "metadata": {},
   "outputs": [],
   "source": [
    "# Display the powers of n using anonymous function"
   ]
  },
  {
   "cell_type": "code",
   "execution_count": null,
   "id": "7ba687cd",
   "metadata": {},
   "outputs": [],
   "source": [
    "a=int(input(\"How many terms?: \"))\n",
    "b=int(input(\"which number: \"))"
   ]
  },
  {
   "cell_type": "code",
   "execution_count": 8,
   "id": "43fc498a",
   "metadata": {},
   "outputs": [
    {
     "name": "stdout",
     "output_type": "stream",
     "text": [
      "8 raised to power 0 is 1\n",
      "8 raised to power 1 is 8\n",
      "8 raised to power 2 is 64\n",
      "8 raised to power 3 is 512\n",
      "8 raised to power 4 is 4096\n",
      "8 raised to power 5 is 32768\n",
      "8 raised to power 6 is 262144\n"
     ]
    }
   ],
   "source": [
    "for i in range(0,a+1):\n",
    "    c=b**i\n",
    "    print(b,\"raised to power\",i,\"is\",c)\n",
    "    "
   ]
  }
 ],
 "metadata": {
  "kernelspec": {
   "display_name": "Python 3",
   "language": "python",
   "name": "python3"
  },
  "language_info": {
   "codemirror_mode": {
    "name": "ipython",
    "version": 3
   },
   "file_extension": ".py",
   "mimetype": "text/x-python",
   "name": "python",
   "nbconvert_exporter": "python",
   "pygments_lexer": "ipython3",
   "version": "3.8.8"
  }
 },
 "nbformat": 4,
 "nbformat_minor": 5
}
