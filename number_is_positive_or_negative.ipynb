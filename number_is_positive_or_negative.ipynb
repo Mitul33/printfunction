{
 "cells": [
  {
   "cell_type": "code",
   "execution_count": 1,
   "id": "5e5a1732",
   "metadata": {},
   "outputs": [],
   "source": [
    "#Python Program to Check if a Number is Positive, Negative or 0"
   ]
  },
  {
   "cell_type": "code",
   "execution_count": 12,
   "id": "20e3f5ae",
   "metadata": {},
   "outputs": [
    {
     "name": "stdout",
     "output_type": "stream",
     "text": [
      "enter your num: 00\n"
     ]
    }
   ],
   "source": [
    "num=float(input(\"enter your num: \"))\n"
   ]
  },
  {
   "cell_type": "code",
   "execution_count": 13,
   "id": "b8769cc5",
   "metadata": {},
   "outputs": [
    {
     "name": "stdout",
     "output_type": "stream",
     "text": [
      "zero\n"
     ]
    }
   ],
   "source": [
    "if num==0:\n",
    "    print(\"zero\")\n",
    "elif num>0:\n",
    "    print(\"positive\")\n",
    "else :\n",
    "    print(\"negative\")"
   ]
  },
  {
   "cell_type": "code",
   "execution_count": null,
   "id": "f4c86757",
   "metadata": {},
   "outputs": [],
   "source": []
  }
 ],
 "metadata": {
  "kernelspec": {
   "display_name": "Python 3",
   "language": "python",
   "name": "python3"
  },
  "language_info": {
   "codemirror_mode": {
    "name": "ipython",
    "version": 3
   },
   "file_extension": ".py",
   "mimetype": "text/x-python",
   "name": "python",
   "nbconvert_exporter": "python",
   "pygments_lexer": "ipython3",
   "version": "3.8.8"
  }
 },
 "nbformat": 4,
 "nbformat_minor": 5
}
