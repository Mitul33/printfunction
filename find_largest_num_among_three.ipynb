{
 "cells": [
  {
   "cell_type": "code",
   "execution_count": 2,
   "id": "5e5a1732",
   "metadata": {},
   "outputs": [],
   "source": [
    "# Python program to find the largest number among the three input numbers\n"
   ]
  },
  {
   "cell_type": "code",
   "execution_count": 10,
   "id": "669f0429",
   "metadata": {},
   "outputs": [
    {
     "name": "stdout",
     "output_type": "stream",
     "text": [
      "enter your first number: 85\n",
      "enter your second number: 85\n",
      "enter your third number: 66\n"
     ]
    }
   ],
   "source": [
    "num1=float(input(\"enter your first number: \"))\n",
    "num2=float(input(\"enter your second number: \"))\n",
    "num3=float(input(\"enter your third number: \"))"
   ]
  },
  {
   "cell_type": "code",
   "execution_count": 11,
   "id": "89990157",
   "metadata": {},
   "outputs": [
    {
     "name": "stdout",
     "output_type": "stream",
     "text": [
      "85.0 is largest number\n"
     ]
    }
   ],
   "source": [
    "if num1>num2 and num1>num2:\n",
    "    print(num1,\"is largest number\")\n",
    "    \n",
    "elif num2>num3 and num2>1:\n",
    "    print(num2,\"is largest number\")\n",
    "    \n",
    "else :\n",
    "    print(num3,\"is largest number\")"
   ]
  }
 ],
 "metadata": {
  "kernelspec": {
   "display_name": "Python 3",
   "language": "python",
   "name": "python3"
  },
  "language_info": {
   "codemirror_mode": {
    "name": "ipython",
    "version": 3
   },
   "file_extension": ".py",
   "mimetype": "text/x-python",
   "name": "python",
   "nbconvert_exporter": "python",
   "pygments_lexer": "ipython3",
   "version": "3.8.8"
  }
 },
 "nbformat": 4,
 "nbformat_minor": 5
}
