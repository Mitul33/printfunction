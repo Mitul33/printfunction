{
 "cells": [
  {
   "cell_type": "code",
   "execution_count": 1,
   "id": "5e5a1732",
   "metadata": {},
   "outputs": [
    {
     "name": "stdout",
     "output_type": "stream",
     "text": [
      "enter your lower range: 25\n",
      "enter your upper range: 69\n",
      "Prime numbers between 25 and 69 are:\n"
     ]
    }
   ],
   "source": [
    "# Python program to display all the prime numbers within an interval"
   ]
  },
  {
   "cell_type": "code",
   "execution_count": null,
   "id": "03bd18b5",
   "metadata": {},
   "outputs": [],
   "source": [
    "lower = int(input(\"enter your lower range: \"))\n",
    "upper = int(input(\"enter your upper range: \"))\n",
    "\n",
    "print(\"Prime numbers between\", lower, \"and\", upper, \"are:\")"
   ]
  },
  {
   "cell_type": "code",
   "execution_count": 3,
   "id": "345c0edb",
   "metadata": {},
   "outputs": [
    {
     "name": "stdout",
     "output_type": "stream",
     "text": [
      "29\n",
      "31\n",
      "37\n",
      "41\n",
      "43\n",
      "47\n",
      "53\n",
      "59\n",
      "61\n",
      "67\n"
     ]
    }
   ],
   "source": [
    "for num in range(lower, upper + 1):\n",
    "    if num > 1:\n",
    "       for i in range(2, num):\n",
    "           if (num % i) == 0:\n",
    "               break\n",
    "       else:\n",
    "           print(num)"
   ]
  },
  {
   "cell_type": "code",
   "execution_count": null,
   "id": "b630d314",
   "metadata": {},
   "outputs": [],
   "source": []
  },
  {
   "cell_type": "code",
   "execution_count": null,
   "id": "92a87f3d",
   "metadata": {},
   "outputs": [],
   "source": []
  },
  {
   "cell_type": "code",
   "execution_count": null,
   "id": "a13b8330",
   "metadata": {},
   "outputs": [],
   "source": []
  },
  {
   "cell_type": "code",
   "execution_count": null,
   "id": "506b48df",
   "metadata": {},
   "outputs": [],
   "source": []
  }
 ],
 "metadata": {
  "kernelspec": {
   "display_name": "Python 3",
   "language": "python",
   "name": "python3"
  },
  "language_info": {
   "codemirror_mode": {
    "name": "ipython",
    "version": 3
   },
   "file_extension": ".py",
   "mimetype": "text/x-python",
   "name": "python",
   "nbconvert_exporter": "python",
   "pygments_lexer": "ipython3",
   "version": "3.8.8"
  }
 },
 "nbformat": 4,
 "nbformat_minor": 5
}
