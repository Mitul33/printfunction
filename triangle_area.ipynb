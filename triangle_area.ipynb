{
 "cells": [
  {
   "cell_type": "code",
   "execution_count": 4,
   "id": "65d72c67",
   "metadata": {},
   "outputs": [
    {
     "name": "stdout",
     "output_type": "stream",
     "text": [
      "Enter first side: 32\n",
      "Enter second side: 29\n",
      "Enter third side: 46\n"
     ]
    }
   ],
   "source": [
    "a = float(input('Enter first side: '))\n",
    "b = float(input('Enter second side: '))\n",
    "c = float(input('Enter third side: '))\n"
   ]
  },
  {
   "cell_type": "code",
   "execution_count": 5,
   "id": "d15d65d6",
   "metadata": {},
   "outputs": [],
   "source": [
    "# calculate the semi-perimeter\n",
    "per = (a + b + c) / 2"
   ]
  },
  {
   "cell_type": "code",
   "execution_count": 6,
   "id": "4a705181",
   "metadata": {},
   "outputs": [
    {
     "name": "stdout",
     "output_type": "stream",
     "text": [
      "459.7373570855429\n"
     ]
    }
   ],
   "source": [
    "# calculate the area\n",
    "area = (per*(per-a)*(per-b)*(per-c)) ** 0.5\n",
    "print(area)"
   ]
  }
 ],
 "metadata": {
  "kernelspec": {
   "display_name": "Python 3",
   "language": "python",
   "name": "python3"
  },
  "language_info": {
   "codemirror_mode": {
    "name": "ipython",
    "version": 3
   },
   "file_extension": ".py",
   "mimetype": "text/x-python",
   "name": "python",
   "nbconvert_exporter": "python",
   "pygments_lexer": "ipython3",
   "version": "3.8.8"
  }
 },
 "nbformat": 4,
 "nbformat_minor": 5
}
